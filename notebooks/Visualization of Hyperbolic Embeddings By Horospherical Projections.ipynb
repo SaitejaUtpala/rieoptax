{
 "cells": [
  {
   "attachments": {},
   "cell_type": "markdown",
   "metadata": {},
   "source": [
    "#### Visualization of Hyperbolic Embeddings by Horospherical Projections\n",
    "\n",
    "##### The Poincare Model of Hyperbolic Space. \n",
    "\n",
    "1. Generalizing direction by the ideal points.\n",
    "\n",
    "2. Generalizing coordinates by the busemann function.\n",
    "\n",
    "$$B_{\\gamma}(x) = \\lim_{t \\rightarrow \\infty} (d(x, \\gamma(t) ) - t) $$\n",
    "\n",
    "\n",
    "**Euclidean PCA:** \n",
    "\n",
    "$$p_1 = \\argmax_{\\Vert x \\Vert = 1} \\sigma^2 (\\pi^{\\text{E}}_{\\textbf{o}, \\textbf{p}}(S) )$$\n",
    "$$p_{k+1} = \\argmax_{\\Vert x \\Vert = 1} \\sigma^2 (\\pi^{\\text{E}}_{\\textbf{o}, \\textbf{p}_1, \\textbf{p}_2, \\dots,\\textbf{p}_{k} \\textbf{p}}(S) )$$\n",
    "\n",
    "\n",
    "**Horo PCA:** \n",
    "\n",
    "$$p_1 = \\argmax_{\\Vert x \\Vert = 1} \\sigma^2_{\\mathbb{H}} (\\pi^{{\\mathbb{H}}}_{\\textbf{o}, \\textbf{p}}(S) )$$\n",
    "$$p_{k+1} = \\argmax_{\\Vert x \\Vert = 1} \\sigma^2_{\\mathbb{H}} (\\pi^{{\\mathbb{H}}}_{\\textbf{o}, \\textbf{p}_1, \\textbf{p}_2, \\dots,\\textbf{p}_{k} \\textbf{p}}(S) )$$\n",
    "\n"
   ]
  },
  {
   "cell_type": "code",
   "execution_count": null,
   "metadata": {},
   "outputs": [],
   "source": []
  }
 ],
 "metadata": {
  "kernelspec": {
   "display_name": "submodban",
   "language": "python",
   "name": "python3"
  },
  "language_info": {
   "name": "python",
   "version": "3.9.16"
  },
  "orig_nbformat": 4,
  "vscode": {
   "interpreter": {
    "hash": "af75d07b22305e44a14e2475aeb54a404937e415caa25e94843b2c8a9623c65d"
   }
  }
 },
 "nbformat": 4,
 "nbformat_minor": 2
}
