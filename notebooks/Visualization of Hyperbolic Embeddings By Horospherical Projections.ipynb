{
 "cells": [
  {
   "attachments": {},
   "cell_type": "markdown",
   "metadata": {},
   "source": [
    "#### Visualization of Hyperbolic Embeddings by Horospherical Projections\n",
    "\n",
    "##### The Poincare Model of Hyperbolic Space. \n",
    "\n",
    "1. Generalizing direction by the ideal points.\n",
    "\n",
    "2. Generalizing coordinates by the busemann function.\n",
    "\n",
    "$$B_{\\gamma}(x) = \\lim_{t \\rightarrow \\infty} (d(x, \\gamma(t) ) - t) $$\n",
    "\n",
    "\n",
    "**Euclidean PCA:** \n",
    "\n",
    "$$p_1 = \\argmax_{\\Vert x \\Vert = 1} \\sigma^2 (\\pi^{\\text{E}}_{\\textbf{o}, \\textbf{p}}(S) )$$\n",
    "$$p_{k+1} = \\argmax_{\\Vert x \\Vert = 1} \\sigma^2 (\\pi^{\\text{E}}_{\\textbf{o}, \\textbf{p}_1, \\textbf{p}_2, \\dots,\\textbf{p}_{k} \\textbf{p}}(S) )$$\n",
    "\n",
    "\n",
    "**Horo PCA:** \n",
    "\n",
    "$$p_1 = \\argmax_{\\Vert x \\Vert = 1} \\sigma^2_{\\mathbb{H}} (\\pi^{{\\mathbb{H}}}_{\\textbf{o}, \\textbf{p}}(S) )$$\n",
    "$$p_{k+1} = \\argmax_{\\Vert x \\Vert = 1} \\sigma^2_{\\mathbb{H}} (\\pi^{{\\mathbb{H}}}_{\\textbf{o}, \\textbf{p}_1, \\textbf{p}_2, \\dots,\\textbf{p}_{k} \\textbf{p}}(S) )$$\n",
    "\n"
   ]
  },
  {
   "cell_type": "code",
   "execution_count": null,
   "metadata": {},
   "outputs": [],
   "source": []
  }
 ],
 "metadata": {
  "kernelspec": {
   "display_name": "Python 3",
   "language": "python",
   "name": "python3"
  },
  "language_info": {
   "name": "python",
   "version": "3.8.10"
  },
  "orig_nbformat": 4,
  "vscode": {
   "interpreter": {
    "hash": "916dbcbb3f70747c44a77c7bcd40155683ae19c65e1c03b4aa3499c5328201f1"
   }
  }
 },
 "nbformat": 4,
 "nbformat_minor": 2
}
