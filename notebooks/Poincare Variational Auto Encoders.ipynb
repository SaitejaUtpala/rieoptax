{
 "cells": [
  {
   "attachments": {},
   "cell_type": "markdown",
   "metadata": {},
   "source": [
    "import nltk\n",
    "nltk.download('wordnet')\n",
    "nltk.download('omw-1.4')\n",
    "\n",
    "# make sure each edge is included only once\n",
    "edges = set()\n",
    "for synset in tqdm(wn.all_synsets(pos='n')):\n",
    "    # write the transitive closure of all hypernyms of a synset to file\n",
    "    for hyper in synset.closure(lambda s: s.hypernyms()):\n",
    "        edges.add((synset.name(), hyper.name()))\n",
    "\n",
    "    # also write transitive closure for all instances of a synset\n",
    "    for instance in synset.instance_hyponyms():\n",
    "        for hyper in instance.closure(lambda s: s.instance_hypernyms()):\n",
    "            edges.add((instance.name(), hyper.name()))\n",
    "            for h in hyper.closure(lambda s: s.hypernyms()):\n",
    "                edges.add((instance.name(), h.name()))\n",
    "\n",
    "nouns = pd.DataFrame(list(edges), columns=['id1', 'id2'])\n",
    "nouns['weight'] = 1\n",
    "\n",
    "# Extract the set of nouns that have \"mammal.n.01\" as a hypernym\n",
    "mammal_set = set(nouns[nouns.id2 == 'mammal.n.01'].id1.unique())\n",
    "mammal_set.add('mammal.n.01')\n",
    "\n",
    "# Select relations that have a mammal as hypo and hypernym\n",
    "mammals = nouns[nouns.id1.isin(mammal_set) & nouns.id2.isin(mammal_set)]\n",
    "\n",
    "with open('mammals_filter.txt', 'r') as fin:\n",
    "    filt = re.compile(f'({\"|\".join([l.strip() for l in fin.readlines()])})')\n",
    "\n",
    "\n",
    "filtered_mammals = mammals[~mammals.id1.str.cat(' ' + mammals.id2).str.match(filt)]\n",
    "\n",
    "nouns.to_csv('noun_closure.csv', index=False)\n",
    "filtered_mammals.to_csv('mammal_closure.csv', index=False)"
   ]
  },
  {
   "cell_type": "code",
   "execution_count": null,
   "metadata": {},
   "outputs": [],
   "source": []
  }
 ],
 "metadata": {
  "kernelspec": {
   "display_name": "RIEOPTAX",
   "language": "python",
   "name": "python3"
  },
  "language_info": {
   "name": "python",
   "version": "3.7.13"
  },
  "orig_nbformat": 4,
  "vscode": {
   "interpreter": {
    "hash": "d4c1f8361a634022355986ddd3a3cb5f30d1f2d50d58eedd5797f37306cce988"
   }
  }
 },
 "nbformat": 4,
 "nbformat_minor": 2
}
