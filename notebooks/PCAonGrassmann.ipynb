{
 "cells": [
  {
   "cell_type": "code",
   "execution_count": null,
   "metadata": {},
   "outputs": [],
   "source": []
  }
 ],
 "metadata": {
  "kernelspec": {
   "display_name": "Python 3.7.13 ('RIEOPTAX')",
   "language": "python",
   "name": "python3"
  },
  "language_info": {
   "name": "python",
   "version": "3.7.13"
  },
  "orig_nbformat": 4,
  "vscode": {
   "interpreter": {
    "hash": "d4c1f8361a634022355986ddd3a3cb5f30d1f2d50d58eedd5797f37306cce988"
   }
  }
 },
 "nbformat": 4,
 "nbformat_minor": 2
}
