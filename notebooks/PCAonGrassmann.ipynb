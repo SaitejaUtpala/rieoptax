{
 "cells": [
  {
   "cell_type": "markdown",
   "metadata": {},
   "source": [
    "# PCA on GrassmannManifold\n",
    "\n",
    "In this Notebook we will see how to do Principal Component Analysis (PCA). principal components analysis (PCA) by viewing it as an optimization problem on the Grassmann manifold, i.e.,\n",
    "\n",
    "$$\\min_{\\textbf{U} \\in \\mathcal{G}(m, r)} \\frac{1}{n} \\sum_{i=1}^{n} \\Vert\\textbf{z}_{i} - \\textbf{U}\\textbf{U}^T \\text{z}_i\\Vert_{2}^2,$$\n",
    "\n",
    "where $\\textbf{z}_i \\in \\mathbb{R}^n$ denote the data points. Where $ \\mathcal{G}(m, r)$ denotes Grassmann Manifold"
   ]
  },
  {
   "cell_type": "code",
   "execution_count": 5,
   "metadata": {},
   "outputs": [],
   "source": [
    "from jax.config import config\n",
    "config.update(\"jax_enable_x64\", True) # run jax at float64 bit precision\n",
    "\n",
    "\n",
    "from jax import jit, vmap\n",
    "from jax.numpy.linalg import norm\n",
    "from rieoptax.core import ManifoldArray, rgrad\n",
    "from rieoptax.geometry.grassmann import GrassmannCanonical\n",
    "from rieoptax.mechanism.gradient_perturbation import DP_RGD_Mechanism\n",
    "from rieoptax.optimizers.first_order import dp_rsgd, rsgd\n",
    "from rieoptax.optimizers.update import apply_updates"
   ]
  },
  {
   "cell_type": "markdown",
   "metadata": {},
   "source": [
    "### Fit function \n",
    "\n",
    "Rieoptax fit function is similar to Optax with single important difference:  **rgrad** is used instead of **grad**"
   ]
  },
  {
   "cell_type": "code",
   "execution_count": 3,
   "metadata": {},
   "outputs": [],
   "source": [
    "def fit(params, data, optimizer, epochs, private=False):\n",
    "    @jit \n",
    "    def step(params, opt_state, data):\n",
    "        def cost(params, data):\n",
    "            def _cost(params, data):\n",
    "                return norm(data-params.value@(params.value.T @ data))**2\n",
    "            return vmap(_cost, in_axes=(None,0))(params, data).mean()\n",
    "        rgrad_fn = rgrad(cost)\n",
    "        if private:\n",
    "            data = data[:, None]\n",
    "            rgrad_fn = vmap(rgrad_fn, in_axes=(None, 0))#per-example gradient\n",
    "        rgrads = rgrad_fn(params, data)#calculates Riemannian gradients\n",
    "        updates, opt_state = optimizer.update(rgrads, opt_state, params)\n",
    "        params = apply_updates(params, updates)#update using Riemannian Exp\n",
    "        return params, opt_state, loss_value\n",
    "\n",
    "    opt_state = optimizer.init(params)\n",
    "    for i in range(epochs):\n",
    "        params, opt_state, loss_value = step(params, opt_state, data)"
   ]
  },
  {
   "cell_type": "markdown",
   "metadata": {},
   "source": [
    "### Downloading the data \n",
    "\n",
    "Fot this Notebook we will be using Tiny Imagent. Tiny Imagenet consists of 100,000 images  of shape (3,64,64). "
   ]
  },
  {
   "cell_type": "code",
   "execution_count": null,
   "metadata": {},
   "outputs": [],
   "source": [
    "# download Tiny Imagenet \n",
    "!wget http://cs231n.stanford.edu/tiny-imagenet-200.zip\n",
    "  \n",
    "# Unzip raw zip file\n",
    "!unzip -qq 'tiny-imagenet-200.zip'"
   ]
  },
  {
   "cell_type": "code",
   "execution_count": null,
   "metadata": {},
   "outputs": [],
   "source": [
    "import cv2\n",
    "import glob\n",
    "from tqdm import tqdm \n",
    "\n",
    "TRAINPATH = \"../input/tiny-imagenet200zip/tiny-imagenet-200/train/*/images/*.JPEG\"\n",
    "images = [cv2.imread(file) for file in tqdm(glob.glob(TRAINPATH)[:5000])]\n",
    "jnp_data = jnp.asarray(images[:5000], dtype=jnp.float64).reshape(5000,-1)/255"
   ]
  },
  {
   "cell_type": "code",
   "execution_count": null,
   "metadata": {},
   "outputs": [],
   "source": [
    "U_init = ManifoldArray(value=init, manifold=GrassmannCanonical())\n",
    "\n",
    "\n",
    "# non private PCA\n",
    "lr, epochs = (3e-3, 400)\n",
    "optimizer = rsgd(lr)\n",
    "non_private_U = fit(U_init, Z, optimizer, epochs)\n",
    "\n",
    "\n",
    "#(eps, delta) differentially private PCA\n",
    "eps, delta, clip_norm, epochs = (1.0, 1e-6, 0.1, 200)\n",
    "sigma = DP_RGD_Mechanism(eps, delta, clip_norm, n)\n",
    "private_optimizer = dp_rsgd(lr, sigma, clip_norm)\n",
    "private_U = fit(U_init, Z, optimizer, epochs, private=True)"
   ]
  }
 ],
 "metadata": {
  "kernelspec": {
   "display_name": "Python 3.9.12 ('Riedp')",
   "language": "python",
   "name": "python3"
  },
  "language_info": {
   "codemirror_mode": {
    "name": "ipython",
    "version": 3
   },
   "file_extension": ".py",
   "mimetype": "text/x-python",
   "name": "python",
   "nbconvert_exporter": "python",
   "pygments_lexer": "ipython3",
   "version": "3.9.12"
  },
  "orig_nbformat": 4,
  "vscode": {
   "interpreter": {
    "hash": "659085f86307c7e4dcd0ad71c121fceb568b81cc50d3024862eb73c063b50f5b"
   }
  }
 },
 "nbformat": 4,
 "nbformat_minor": 2
}
