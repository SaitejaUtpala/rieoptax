{
 "cells": [
  {
   "cell_type": "code",
   "execution_count": 1,
   "metadata": {},
   "outputs": [
    {
     "ename": "AttributeError",
     "evalue": "type object 'TangentArray' has no attribute 'tree_unflatten'",
     "output_type": "error",
     "traceback": [
      "\u001b[0;31m---------------------------------------------------------------------------\u001b[0m",
      "\u001b[0;31mAttributeError\u001b[0m                            Traceback (most recent call last)",
      "\u001b[1;32m/home/saiteja/WORK/GIT/Rieoptax/notebooks/PCAonGrassmann.ipynb Cell 1\u001b[0m in \u001b[0;36m<cell line: 3>\u001b[0;34m()\u001b[0m\n\u001b[1;32m      <a href='vscode-notebook-cell:/home/saiteja/WORK/GIT/Rieoptax/notebooks/PCAonGrassmann.ipynb#W0sZmlsZQ%3D%3D?line=0'>1</a>\u001b[0m \u001b[39mfrom\u001b[39;00m \u001b[39mjax\u001b[39;00m \u001b[39mimport\u001b[39;00m jit, vmap\n\u001b[1;32m      <a href='vscode-notebook-cell:/home/saiteja/WORK/GIT/Rieoptax/notebooks/PCAonGrassmann.ipynb#W0sZmlsZQ%3D%3D?line=1'>2</a>\u001b[0m \u001b[39mfrom\u001b[39;00m \u001b[39mjax\u001b[39;00m\u001b[39m.\u001b[39;00m\u001b[39mnumpy\u001b[39;00m\u001b[39m.\u001b[39;00m\u001b[39mlinalg\u001b[39;00m \u001b[39mimport\u001b[39;00m norm\n\u001b[0;32m----> <a href='vscode-notebook-cell:/home/saiteja/WORK/GIT/Rieoptax/notebooks/PCAonGrassmann.ipynb#W0sZmlsZQ%3D%3D?line=2'>3</a>\u001b[0m \u001b[39mfrom\u001b[39;00m \u001b[39mrieoptax\u001b[39;00m\u001b[39m.\u001b[39;00m\u001b[39mcore\u001b[39;00m \u001b[39mimport\u001b[39;00m rgrad, ManifoldArray\n\u001b[1;32m      <a href='vscode-notebook-cell:/home/saiteja/WORK/GIT/Rieoptax/notebooks/PCAonGrassmann.ipynb#W0sZmlsZQ%3D%3D?line=3'>4</a>\u001b[0m \u001b[39mfrom\u001b[39;00m \u001b[39mrieoptax\u001b[39;00m\u001b[39m.\u001b[39;00m\u001b[39mgeometry\u001b[39;00m\u001b[39m.\u001b[39;00m\u001b[39mgrassmann\u001b[39;00m \u001b[39mimport\u001b[39;00m GrassmannCanonical\n\u001b[1;32m      <a href='vscode-notebook-cell:/home/saiteja/WORK/GIT/Rieoptax/notebooks/PCAonGrassmann.ipynb#W0sZmlsZQ%3D%3D?line=4'>5</a>\u001b[0m \u001b[39mfrom\u001b[39;00m \u001b[39mrieoptax\u001b[39;00m\u001b[39m.\u001b[39;00m\u001b[39moptimizer\u001b[39;00m\u001b[39m.\u001b[39;00m\u001b[39mfirst_order\u001b[39;00m \u001b[39mimport\u001b[39;00m rsgd, dp_rsgd\n",
      "File \u001b[0;32m~/miniconda3/envs/Riedp/lib/python3.9/site-packages/rieoptax/core.py:34\u001b[0m, in \u001b[0;36m<module>\u001b[0;34m\u001b[0m\n\u001b[1;32m     28\u001b[0m     \u001b[39m@classmethod\u001b[39m\n\u001b[1;32m     29\u001b[0m     \u001b[39mdef\u001b[39;00m \u001b[39mtree_unflatten\u001b[39m(\u001b[39mcls\u001b[39m, aux_data, children):\n\u001b[1;32m     30\u001b[0m         \u001b[39mreturn\u001b[39;00m \u001b[39mcls\u001b[39m(children[\u001b[39m0\u001b[39m], aux_data)\n\u001b[1;32m     33\u001b[0m \u001b[39m@register_pytree_node_class\u001b[39;49m\n\u001b[0;32m---> 34\u001b[0m \u001b[39mclass\u001b[39;49;00m \u001b[39mTangentArray\u001b[39;49;00m():\n\u001b[1;32m     35\u001b[0m     \u001b[39m\"\"\"A lightweight wrapper for arrays constrained to Tangent. \u001b[39;49;00m\n\u001b[1;32m     36\u001b[0m \u001b[39m    It combines the `value` (a JAX PyTree) with a corresponding 'manifold'\u001b[39;49;00m\n\u001b[1;32m     37\u001b[0m \u001b[39m    (Manifold object).\u001b[39;49;00m\n\u001b[1;32m     38\u001b[0m \u001b[39m    \"\"\"\u001b[39;49;00m\n\u001b[1;32m     40\u001b[0m     \u001b[39mdef\u001b[39;49;00m \u001b[39m__init__\u001b[39;49m(\u001b[39mself\u001b[39;49m, value : jnp\u001b[39m.\u001b[39;49marray, ba) \u001b[39m-\u001b[39;49m\u001b[39m>\u001b[39;49m \u001b[39mNone\u001b[39;49;00m: \n",
      "File \u001b[0;32m~/miniconda3/envs/Riedp/lib/python3.9/site-packages/jax/_src/tree_util.py:161\u001b[0m, in \u001b[0;36mregister_pytree_node_class\u001b[0;34m(cls)\u001b[0m\n\u001b[1;32m    144\u001b[0m \u001b[39mdef\u001b[39;00m \u001b[39mregister_pytree_node_class\u001b[39m(\u001b[39mcls\u001b[39m):\n\u001b[1;32m    145\u001b[0m   \u001b[39m\"\"\"Extends the set of types that are considered internal nodes in pytrees.\u001b[39;00m\n\u001b[1;32m    146\u001b[0m \n\u001b[1;32m    147\u001b[0m \u001b[39m  This function is a thin wrapper around ``register_pytree_node``, and provides\u001b[39;00m\n\u001b[0;32m   (...)\u001b[0m\n\u001b[1;32m    159\u001b[0m \u001b[39m        return cls(*children)\u001b[39;00m\n\u001b[1;32m    160\u001b[0m \u001b[39m  \"\"\"\u001b[39;00m\n\u001b[0;32m--> 161\u001b[0m   register_pytree_node(\u001b[39mcls\u001b[39m, op\u001b[39m.\u001b[39mmethodcaller(\u001b[39m'\u001b[39m\u001b[39mtree_flatten\u001b[39m\u001b[39m'\u001b[39m), \u001b[39mcls\u001b[39;49m\u001b[39m.\u001b[39;49mtree_unflatten)\n\u001b[1;32m    162\u001b[0m   \u001b[39mreturn\u001b[39;00m \u001b[39mcls\u001b[39m\n",
      "\u001b[0;31mAttributeError\u001b[0m: type object 'TangentArray' has no attribute 'tree_unflatten'"
     ]
    }
   ],
   "source": [
    "from jax import jit, vmap\n",
    "from jax.numpy.linalg import norm\n",
    "from rieoptax.core import rgrad, ManifoldArray\n",
    "from rieoptax.geometry.grassmann import GrassmannCanonical\n",
    "from rieoptax.optimizer.first_order import rsgd, dp_rsgd\n",
    "from rieoptax.mechanism.gradient_perturbation import DP_RGD_Mechanism\n",
    "from rieoptax.optimizer.update import apply_updates\n"
   ]
  },
  {
   "cell_type": "code",
   "execution_count": null,
   "metadata": {},
   "outputs": [],
   "source": [
    "def fit(params, data, optimizer, epochs, private=False):\n",
    "def step(params, opt_state, data):\n",
    "def cost(params, data):\n",
    "def _cost(params, data):\n",
    "return norm(data-params.value@(params.value.T @ data))**2\n",
    "return vmap(_cost, in_axes=(None,0))(params, data).mean()\n",
    "rgrad_fn = rgrad(cost)\n",
    "if private:\n",
    "data = data[:, None]\n",
    "rgrad_fn = vmap(rgrad_fn, in_axes=(None, 0))#per-example gradient\n",
    "rgrads = rgrad_fn(params, data)#calculates Riemannian gradients\n",
    "updates, opt_state = optimizer.update(rgrads, opt_state, params)\n",
    "params = apply_updates(params, updates)#update using Riemannian Exp\n",
    "return params, opt_state, loss_value\n",
    "opt_state = optimizer.init(params)\n",
    "for i in range(epochs):\n",
    "params, opt_state, loss_value = jit(step)(params, opt_state, data)\n",
    "#initialization\n",
    "U_init = ManifoldArray(value=init, manifold=GrassmannCanonical())\n",
    "# non private PCA\n",
    "lr, epochs = (3e-3, 400)\n",
    "optimizer = rsgd(lr)\n",
    "non_private_U = fit(U_init, Z, optimizer, epochs)\n",
    "#(eps, delta) differentially private PCA\n",
    "eps, delta, clip_norm, epochs = (1.0, 1e-6, 0.1, 200)\n",
    "sigma = DP_RGD_Mechanism(eps, delta, clip_norm, n)\n",
    "private_optimizer = dp_rsgd(lr, sigma, clip_norm)\n",
    "private_U = fit(U_init, Z, optimizer, epochs, private=True)"
   ]
  }
 ],
 "metadata": {
  "kernelspec": {
   "display_name": "Python 3.9.12 ('Riedp')",
   "language": "python",
   "name": "python3"
  },
  "language_info": {
   "codemirror_mode": {
    "name": "ipython",
    "version": 3
   },
   "file_extension": ".py",
   "mimetype": "text/x-python",
   "name": "python",
   "nbconvert_exporter": "python",
   "pygments_lexer": "ipython3",
   "version": "3.9.12"
  },
  "orig_nbformat": 4,
  "vscode": {
   "interpreter": {
    "hash": "659085f86307c7e4dcd0ad71c121fceb568b81cc50d3024862eb73c063b50f5b"
   }
  }
 },
 "nbformat": 4,
 "nbformat_minor": 2
}
