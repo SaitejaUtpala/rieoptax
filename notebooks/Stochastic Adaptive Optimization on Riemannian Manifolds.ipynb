{
 "cells": [
  {
   "attachments": {},
   "cell_type": "markdown",
   "metadata": {},
   "source": [
    "### Stochastic Adaptive Optimization on Riemannian Manifolds. \n",
    "\n",
    "ADAM(adaptive moment estimation) was first proposed in [1] and default choice for deep nets. Riemannian version of ADAM was proposed in [2]. This notebook explains key differen\n",
    "\n",
    "\n",
    "\n",
    "[1]ADAM: A method for stochastic optimization\n",
    "\n",
    "[2]RIEMANNIAN ADAPTIVE OPTIMIZATION METHODS"
   ]
  },
  {
   "cell_type": "code",
   "execution_count": null,
   "metadata": {},
   "outputs": [],
   "source": []
  }
 ],
 "metadata": {
  "kernelspec": {
   "display_name": "Python 3",
   "language": "python",
   "name": "python3"
  },
  "language_info": {
   "name": "python",
   "version": "3.8.10 (default, Jun 22 2022, 20:18:18) \n[GCC 9.4.0]"
  },
  "orig_nbformat": 4,
  "vscode": {
   "interpreter": {
    "hash": "916dbcbb3f70747c44a77c7bcd40155683ae19c65e1c03b4aa3499c5328201f1"
   }
  }
 },
 "nbformat": 4,
 "nbformat_minor": 2
}
