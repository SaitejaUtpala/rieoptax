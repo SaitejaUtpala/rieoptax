{
 "cells": [
  {
   "cell_type": "code",
   "execution_count": 6,
   "metadata": {},
   "outputs": [],
   "source": [
    "from jax import random, pmap\n",
    "import jax.numpy as jnp"
   ]
  },
  {
   "cell_type": "code",
   "execution_count": null,
   "metadata": {},
   "outputs": [],
   "source": [
    "\n",
    "@jax.tree_util.register_pytree_node_class\n",
    "class SPDAffineInvariantMetric():\n",
    "\n",
    "    def __init__(self, k):\n",
    "        self.k = k \n",
    "\n",
    "    def _exp(self, tangent_vec, base_point):\n",
    "        pass \n",
    "\n",
    "    def _log(self, point, base_point):\n",
    "        pass \n",
    "\n",
    "    def _retraction(self, tangent_vec, base_point):\n",
    "        pass \n",
    "\n",
    "    def _parallel_transport(self, tangent_vec, start_point, end_point):\n",
    "        pass \n",
    "\n",
    "    def _vector_transport(self, tangent_vec, start_poitn, end_point):\n",
    "        pass "
   ]
  },
  {
   "cell_type": "code",
   "execution_count": 14,
   "metadata": {},
   "outputs": [
    {
     "name": "stdout",
     "output_type": "stream",
     "text": [
      "25.786\n",
      "32.332\n",
      "27.258\n",
      "29.000\n",
      "34.318\n"
     ]
    }
   ],
   "source": [
    "from functools import partial\n",
    "from timeit import timeit\n",
    "from jax import vmap, jit, random, numpy as jnp\n",
    "\n",
    "n, d = 2048,2048\n",
    "a = random.normal(random.PRNGKey(0), (n, d))\n",
    "b = random.normal(random.PRNGKey(0), (d, d))\n",
    "\n",
    "mm = jnp.matmul\n",
    "v = partial(vmap, in_axes=(0, None))\n",
    "\n",
    "for f in [mm, v(mm), jit(mm), v(jit(mm)), jit(v(mm))]:\n",
    "  run = lambda: f(a, b).block_until_ready()\n",
    "  t = timeit(run, setup=run, number=1000)\n",
    "  print(f'{t:.3f}')"
   ]
  },
  {
   "cell_type": "code",
   "execution_count": 15,
   "metadata": {},
   "outputs": [],
   "source": [
    "from jax import numpy as np, vmap, jit, random\n",
    "import itertools\n",
    "\n",
    "key = random.PRNGKey(0)\n",
    "\n",
    "# dataset\n",
    "D = random.bernoulli(key, 0.5, shape=[60000, 100])\n",
    "# queries are the column indices we want to multiply\n",
    "queries = random.permutation(key, np.array([comb for comb in itertools.combinations(np.arange(100), 3)]))[:1000]\n",
    "\n",
    "# a single query: multiply the columns we care about and see what proportion of them are ones\n",
    "def _single_query(D, query):\n",
    "    return np.sum(np.prod(D[:, query], axis=1))/D.shape[0]\n",
    "\n",
    "# generate a function that can compute result of some pre-determined subset of queries on the dataset, vmap over queries\n",
    "def auto_batched_preserve_subset_statistic(queries):\n",
    "    @jit\n",
    "    def compute_statistic(D):\n",
    "        return jit(vmap(_single_query, (None, 0)))(D, queries)\n",
    "    return compute_statistic\n",
    "\n",
    "# generate a function that can compute result of some pre-determined subset of queries on the dataset, hand vectorize\n",
    "# over the queries\n",
    "def hand_batched_preserve_subset_statistic(queries):\n",
    "    @jit\n",
    "    def compute_statistic(D):\n",
    "        temp = np.array_split(queries, 10)\n",
    "        return np.concatenate([\n",
    "            np.prod(D[:, q], 2).sum(0) for q in temp\n",
    "        ]) / D.shape[0]\n",
    "    return compute_statistic\n",
    "\n",
    "# hand batched statistic function\n",
    "hb_compute_statistic = hand_batched_preserve_subset_statistic(queries)\n",
    "# vmap/auto batched statistic function\n",
    "ab_compute_statistic = auto_batched_preserve_subset_statistic(queries)\n"
   ]
  },
  {
   "cell_type": "code",
   "execution_count": 21,
   "metadata": {},
   "outputs": [
    {
     "name": "stdout",
     "output_type": "stream",
     "text": [
      "25.9 ms ± 2.48 ms per loop (mean ± std. dev. of 7 runs, 10 loops each)\n"
     ]
    }
   ],
   "source": [
    "%%timeit \n",
    "ab_compute_statistic(D).block_until_ready()"
   ]
  },
  {
   "cell_type": "code",
   "execution_count": 22,
   "metadata": {},
   "outputs": [
    {
     "name": "stdout",
     "output_type": "stream",
     "text": [
      "35.3 ms ± 203 µs per loop (mean ± std. dev. of 7 runs, 10 loops each)\n"
     ]
    }
   ],
   "source": [
    "%%timeit \n",
    "\n",
    "hb_compute_statistic(D).block_until_ready()"
   ]
  },
  {
   "cell_type": "code",
   "execution_count": null,
   "metadata": {},
   "outputs": [],
   "source": []
  }
 ],
 "metadata": {
  "kernelspec": {
   "display_name": "Python 3.9.12 ('RIEOPTAX')",
   "language": "python",
   "name": "python3"
  },
  "language_info": {
   "codemirror_mode": {
    "name": "ipython",
    "version": 3
   },
   "file_extension": ".py",
   "mimetype": "text/x-python",
   "name": "python",
   "nbconvert_exporter": "python",
   "pygments_lexer": "ipython3",
   "version": "3.9.12"
  },
  "orig_nbformat": 4,
  "vscode": {
   "interpreter": {
    "hash": "d4c1f8361a634022355986ddd3a3cb5f30d1f2d50d58eedd5797f37306cce988"
   }
  }
 },
 "nbformat": 4,
 "nbformat_minor": 2
}
